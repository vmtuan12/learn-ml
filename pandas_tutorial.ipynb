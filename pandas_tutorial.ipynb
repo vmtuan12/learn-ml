{
 "cells": [
  {
   "cell_type": "code",
   "execution_count": 1,
   "metadata": {},
   "outputs": [],
   "source": [
    "import numpy as np\n",
    "import pandas as pd"
   ]
  },
  {
   "cell_type": "code",
   "execution_count": 10,
   "metadata": {},
   "outputs": [
    {
     "name": "stdout",
     "output_type": "stream",
     "text": [
      "   Eleanor  Chidi  Tahani  Jason\n",
      "0       45     41      69      6\n",
      "1       40     72      64     26\n",
      "2       71    100      84     53\n",
      "\n",
      "\n",
      "1    40\n",
      "Name: Eleanor, dtype: int32\n",
      "\n",
      "\n",
      "   Eleanor  Chidi  Tahani  Jason  Janet\n",
      "0       45     41      69      6     75\n",
      "1       40     72      64     26     90\n",
      "2       71    100      84     53    137\n"
     ]
    }
   ],
   "source": [
    "columns = ['Eleanor', 'Chidi', 'Tahani', 'Jason']\n",
    "# random_matrix = np.random.rand(3, 4) * 10 -> float\n",
    "random_matrix = np.random.randint(low=0, high=101, size=(3, 4)) # -> int\n",
    "\n",
    "dataframe = pd.DataFrame(data=random_matrix, columns=columns)\n",
    "print(dataframe)\n",
    "print(\"\\n\")\n",
    "\n",
    "print(dataframe.iloc[[1]]['Eleanor'])\n",
    "print(\"\\n\")\n",
    "\n",
    "dataframe[\"Janet\"] = dataframe[\"Tahani\"] + dataframe[\"Jason\"]\n",
    "print(dataframe)"
   ]
  }
 ],
 "metadata": {
  "kernelspec": {
   "display_name": "Python 3",
   "language": "python",
   "name": "python3"
  },
  "language_info": {
   "codemirror_mode": {
    "name": "ipython",
    "version": 3
   },
   "file_extension": ".py",
   "mimetype": "text/x-python",
   "name": "python",
   "nbconvert_exporter": "python",
   "pygments_lexer": "ipython3",
   "version": "3.12.1"
  }
 },
 "nbformat": 4,
 "nbformat_minor": 2
}
